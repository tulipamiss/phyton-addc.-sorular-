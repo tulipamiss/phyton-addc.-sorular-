{
  "nbformat": 4,
  "nbformat_minor": 0,
  "metadata": {
    "colab": {
      "name": "Print Right Angle Triangle pattern with + symbols.ipynb",
      "provenance": [],
      "authorship_tag": "ABX9TyOPlN2ptW7B9hQFSQtPDv3L",
      "include_colab_link": true
    },
    "kernelspec": {
      "name": "python3",
      "display_name": "Python 3"
    },
    "language_info": {
      "name": "python"
    }
  },
  "cells": [
    {
      "cell_type": "markdown",
      "metadata": {
        "id": "view-in-github",
        "colab_type": "text"
      },
      "source": [
        "<a href=\"https://colab.research.google.com/github/tulipamiss/phyton-addc.-sorular-/blob/main/Print_Right_Angle_Triangle_pattern_with_%2B_symbols.ipynb\" target=\"_parent\"><img src=\"https://colab.research.google.com/assets/colab-badge.svg\" alt=\"Open In Colab\"/></a>"
      ]
    },
    {
      "cell_type": "code",
      "execution_count": 4,
      "metadata": {
        "colab": {
          "base_uri": "https://localhost:8080/"
        },
        "id": "MTiB-IysGCZm",
        "outputId": "245c1950-cfd0-42ef-d8a3-f568a210da48"
      },
      "outputs": [
        {
          "output_type": "stream",
          "name": "stdout",
          "text": [
            "Enter No Of Rows:23\n",
            "+ \n",
            "+ + \n",
            "+ + + \n",
            "+ + + + \n",
            "+ + + + + \n",
            "+ + + + + + \n",
            "+ + + + + + + \n",
            "+ + + + + + + + \n",
            "+ + + + + + + + + \n",
            "+ + + + + + + + + + \n",
            "+ + + + + + + + + + + \n",
            "+ + + + + + + + + + + + \n",
            "+ + + + + + + + + + + + + \n",
            "+ + + + + + + + + + + + + + \n",
            "+ + + + + + + + + + + + + + + \n",
            "+ + + + + + + + + + + + + + + + \n",
            "+ + + + + + + + + + + + + + + + + \n",
            "+ + + + + + + + + + + + + + + + + + \n",
            "+ + + + + + + + + + + + + + + + + + + \n",
            "+ + + + + + + + + + + + + + + + + + + + \n",
            "+ + + + + + + + + + + + + + + + + + + + + \n",
            "+ + + + + + + + + + + + + + + + + + + + + + \n",
            "+ + + + + + + + + + + + + + + + + + + + + + + \n"
          ]
        }
      ],
      "source": [
        "n=int(input('Enter No Of Rows:'))\n",
        "for i in range(n):\n",
        "    for j in range(i+1):\n",
        "        print('+',end=' ')\n",
        "    print()"
      ]
    }
  ]
}