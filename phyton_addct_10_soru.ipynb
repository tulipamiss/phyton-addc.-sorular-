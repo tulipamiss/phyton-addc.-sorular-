{
  "nbformat": 4,
  "nbformat_minor": 0,
  "metadata": {
    "colab": {
      "name": "phyton_addct 10.soru.ipynb",
      "provenance": [],
      "authorship_tag": "ABX9TyNj29rVso9jZ1mrfsXE+ljh",
      "include_colab_link": true
    },
    "kernelspec": {
      "name": "python3",
      "display_name": "Python 3"
    },
    "language_info": {
      "name": "python"
    }
  },
  "cells": [
    {
      "cell_type": "markdown",
      "metadata": {
        "id": "view-in-github",
        "colab_type": "text"
      },
      "source": [
        "<a href=\"https://colab.research.google.com/github/tulipamiss/phyton-addc.-sorular-/blob/main/phyton_addct_10_soru.ipynb\" target=\"_parent\"><img src=\"https://colab.research.google.com/assets/colab-badge.svg\" alt=\"Open In Colab\"/></a>"
      ]
    },
    {
      "cell_type": "code",
      "source": [
        "Exercise - 10\n",
        "\n",
        "Given string contains a combination of the lower and upper case letters. Write a program to arrange the characters of a string so that all lowercase letters should come first.\n",
        "\n",
        "#Verilen string, küçük ve büyük harflerin bir kombinasyonunu içerir. Bir stringin karakterlerini, tüm küçük harflerin önce gelmesi için sıralayan bir program yazın.\n",
        "\n",
        "word = \"NeverGiveUp\"\n",
        "lower_case = \"\"\n",
        "upper_case = \"\"\n",
        "\n",
        "for i in word :\n",
        "  if i.isupper() :\n",
        "    \n",
        "    upper_case += i\n",
        "  else :\n",
        "    lower_case += i\n",
        "\n",
        "print(lower_case + upper_case)\n",
        "word = \"BugUNlerDe\"\n",
        "lower_case = \"\"\n",
        "upper_case = \"\"\n",
        "\n",
        "for i in word :\n",
        "  if i.isupper() :\n",
        "    upper_case += i\n",
        "  else :\n",
        "    lower_case += i\n",
        "\n",
        "print(lower_case + upper_case)\n",
        "uglereBUND"
      ],
      "metadata": {
        "id": "esvGU-RGgV_o"
      },
      "execution_count": null,
      "outputs": []
    }
  ]
}