{
  "nbformat": 4,
  "nbformat_minor": 0,
  "metadata": {
    "colab": {
      "name": "phyton_addct_6.soru.ipynb",
      "provenance": [],
      "authorship_tag": "ABX9TyMqb/PZeGz8571g7gIIP5k+",
      "include_colab_link": true
    },
    "kernelspec": {
      "name": "python3",
      "display_name": "Python 3"
    },
    "language_info": {
      "name": "python"
    }
  },
  "cells": [
    {
      "cell_type": "markdown",
      "metadata": {
        "id": "view-in-github",
        "colab_type": "text"
      },
      "source": [
        "<a href=\"https://colab.research.google.com/github/tulipamiss/phyton-addc.-sorular-/blob/main/phyton_addct_6_soru.ipynb\" target=\"_parent\"><img src=\"https://colab.research.google.com/assets/colab-badge.svg\" alt=\"Open In Colab\"/></a>"
      ]
    },
    {
      "cell_type": "code",
      "source": [
        "Exercise - 6\n",
        "\n",
        "If the entered side lengths do not form a triangle, write the code that determines the type of triangle according to the three side information entered by the user. ( In absolute value, the difference of two sides is taken, if the difference is greater than the other side, the entered values ​​do not form a triangle. This is done for all sides.)\n",
        "\n",
        "Girilen kenar uzunlukları üçgen oluşturmuyorsa kullanıcının girdiği üç kenar bilgisine göre üçgenin türünü belirleyen kodu yazınız. ( Mutlak değerde iki kenarın farkı alınır, eğer fark diğer kenardan büyük ise girilen değerler üçgen oluşturmaz. Bu tüm kenarlar için yapılır.)\n",
        "\n",
        "x = int(input(\"Üçgen oluşturmak için bir kenar değeri girin: \"))\n",
        "y = int(input(\"Üçgen oluşturmak için bir kenar değeri girin: \"))\n",
        "z = int(input(\"Üçgen oluşturmak için bir kenar değeri girin: \"))\n",
        "\n",
        "if abs(x - y) > z or abs(x - z) > y or abs(y - z) > x :\n",
        "  print(\"{}, {} ve {} rakamları ile üçgen oluşturulamaz!\".format(x, y, z))\n",
        "elif x == y == z :\n",
        "  print(\"Girdiğiniz rakamlarla oluşturulan üçgen, bir eşkenar üçgendir.\")\n",
        "elif x == y or x == z or y == z :\n",
        "  print(\"Girdiğiniz rakamlarla oluşturulan üçgen, bir ikizkenar üçgendir.\")\n",
        "else :\n",
        "  print(\"Girdiğiniz rakamlarla oluşturulan üçgen, bir çeşitkenar üçgendir.\")\n",
        "Üçgen oluşturmak için bir kenar değeri girin: 4\n",
        "Üçgen oluşturmak için bir kenar değeri girin: 5\n",
        "Üçgen oluşturmak için bir kenar değeri girin: 12\n",
        "4, 5 ve 12 rakamları ile üçgen oluşturulamaz!\n"
      ],
      "metadata": {
        "id": "TqHC2t_Js6Ta"
      },
      "execution_count": null,
      "outputs": []
    },
    {
      "cell_type": "code",
      "source": [
        "x = int(input(\"Üçgen oluşturmak için bir kenar değeri girin: \"))\n",
        "y = int(input(\"Üçgen oluşturmak için bir kenar değeri girin: \"))\n",
        "z = int(input(\"Üçgen oluşturmak için bir kenar değeri girin: \"))\n",
        "\n",
        "if abs(x - y) > z or abs(x - z) > y or abs(y - z) > x :\n",
        "  print(\"{}, {} ve {} rakamları ile üçgen oluşturulamaz!\".format(x, y, z))\n",
        "elif x == y == z :\n",
        "  print(\"Girdiğiniz rakamlarla oluşturulan üçgen, bir eşkenar üçgendir.\")\n",
        "elif x == y or x == z or y == z :\n",
        "  print(\"Girdiğiniz rakamlarla oluşturulan üçgen, bir ikizkenar üçgendir.\")\n",
        "else :\n",
        "  print(\"Girdiğiniz rakamlarla oluşturulan üçgen, bir çeşitkenar üçgendir.\")"
      ],
      "metadata": {
        "colab": {
          "base_uri": "https://localhost:8080/"
        },
        "id": "6VQDdbM3vgQm",
        "outputId": "05ecb161-9c56-41b7-e4f6-4f7c4a6fc440"
      },
      "execution_count": 3,
      "outputs": [
        {
          "output_type": "stream",
          "name": "stdout",
          "text": [
            "Üçgen oluşturmak için bir kenar değeri girin: 12\n",
            "Üçgen oluşturmak için bir kenar değeri girin: 34\n",
            "Üçgen oluşturmak için bir kenar değeri girin: 23\n",
            "Girdiğiniz rakamlarla oluşturulan üçgen, bir çeşitkenar üçgendir.\n"
          ]
        }
      ]
    }
  ]
}