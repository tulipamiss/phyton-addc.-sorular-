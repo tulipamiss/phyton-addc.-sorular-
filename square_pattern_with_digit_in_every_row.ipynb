{
  "nbformat": 4,
  "nbformat_minor": 0,
  "metadata": {
    "colab": {
      "name": " square pattern with digit in every row.ipynb",
      "provenance": [],
      "authorship_tag": "ABX9TyPAk03u+FD9kue5pKoLUxY4",
      "include_colab_link": true
    },
    "kernelspec": {
      "name": "python3",
      "display_name": "Python 3"
    },
    "language_info": {
      "name": "python"
    }
  },
  "cells": [
    {
      "cell_type": "markdown",
      "metadata": {
        "id": "view-in-github",
        "colab_type": "text"
      },
      "source": [
        "<a href=\"https://colab.research.google.com/github/tulipamiss/phyton-addc.-sorular-/blob/main/square_pattern_with_digit_in_every_row.ipynb\" target=\"_parent\"><img src=\"https://colab.research.google.com/assets/colab-badge.svg\" alt=\"Open In Colab\"/></a>"
      ]
    },
    {
      "cell_type": "code",
      "source": [
        "n=int(input('Enter No Of Rows:'))\n",
        "for i in range(n):\n",
        " print((str(i+1)+' ')*n)"
      ],
      "metadata": {
        "colab": {
          "base_uri": "https://localhost:8080/"
        },
        "id": "cVCbzaD1V2vJ",
        "outputId": "4fded5fb-fe5c-454a-b6cd-563aac7278a5"
      },
      "execution_count": 3,
      "outputs": [
        {
          "output_type": "stream",
          "name": "stdout",
          "text": [
            "Enter No Of Rows:9\n",
            "1 1 1 1 1 1 1 1 1 \n",
            "2 2 2 2 2 2 2 2 2 \n",
            "3 3 3 3 3 3 3 3 3 \n",
            "4 4 4 4 4 4 4 4 4 \n",
            "5 5 5 5 5 5 5 5 5 \n",
            "6 6 6 6 6 6 6 6 6 \n",
            "7 7 7 7 7 7 7 7 7 \n",
            "8 8 8 8 8 8 8 8 8 \n",
            "9 9 9 9 9 9 9 9 9 \n"
          ]
        }
      ]
    }
  ]
}