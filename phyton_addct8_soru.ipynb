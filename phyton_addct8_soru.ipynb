{
  "nbformat": 4,
  "nbformat_minor": 0,
  "metadata": {
    "colab": {
      "name": "phyton_addct8.soru.ipynb",
      "provenance": [],
      "authorship_tag": "ABX9TyOf6Vaw1szOcaPdr5RjWgLn",
      "include_colab_link": true
    },
    "kernelspec": {
      "name": "python3",
      "display_name": "Python 3"
    },
    "language_info": {
      "name": "python"
    }
  },
  "cells": [
    {
      "cell_type": "markdown",
      "metadata": {
        "id": "view-in-github",
        "colab_type": "text"
      },
      "source": [
        "<a href=\"https://colab.research.google.com/github/tulipamiss/phyton-addc.-sorular-/blob/main/phyton_addct8_soru.ipynb\" target=\"_parent\"><img src=\"https://colab.research.google.com/assets/colab-badge.svg\" alt=\"Open In Colab\"/></a>"
      ]
    },
    {
      "cell_type": "code",
      "source": [
        "Exercise - 9\n",
        "\n",
        "Given two strings, s1 and s2. Write a program to create a new string s3 by appending s2 in the middle of s1.\n",
        "\n",
        "İki string verildi, s1 ve s2. s1'in ortasına s2'yi ekleyerek yeni bir s3 stringi oluşturan bir program yazın.\n",
        "\n",
        "s1 = \"*Telyon*\"\n",
        "s2 = \"eviz\"\n",
        "s3 = s1[0:round(len(s1)//2)] + s2 + s1[round(len(s1)//2):]\n",
        "\n",
        "print(s3)"
      ],
      "metadata": {
        "id": "MXZ8jewG5ynv"
      },
      "execution_count": null,
      "outputs": []
    },
    {
      "cell_type": "code",
      "source": [
        "s1 = \"*Telyon*\"\n",
        "s2 = \"eviz\"\n",
        "s3 = s1[0:round(len(s1)//2)] + s2 + s1[round(len(s1)//2):]\n",
        "\n",
        "print(s3)"
      ],
      "metadata": {
        "colab": {
          "base_uri": "https://localhost:8080/"
        },
        "id": "hO4-K41JWIPo",
        "outputId": "a933b31d-cb28-4ed1-97f7-5ff49b72b321"
      },
      "execution_count": 7,
      "outputs": [
        {
          "output_type": "stream",
          "name": "stdout",
          "text": [
            "*Televizyon*\n"
          ]
        }
      ]
    }
  ]
}