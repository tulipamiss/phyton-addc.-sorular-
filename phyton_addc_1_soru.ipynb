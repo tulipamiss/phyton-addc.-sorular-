{
  "nbformat": 4,
  "nbformat_minor": 0,
  "metadata": {
    "colab": {
      "name": "phyton addc.1.soru.ipynb",
      "provenance": [],
      "authorship_tag": "ABX9TyO/pBN/fiboMQOEI/4EakwJ",
      "include_colab_link": true
    },
    "kernelspec": {
      "name": "python3",
      "display_name": "Python 3"
    },
    "language_info": {
      "name": "python"
    }
  },
  "cells": [
    {
      "cell_type": "markdown",
      "metadata": {
        "id": "view-in-github",
        "colab_type": "text"
      },
      "source": [
        "<a href=\"https://colab.research.google.com/github/tulipamiss/phyton-addc.-sorular-/blob/main/phyton_addc_1_soru.ipynb\" target=\"_parent\"><img src=\"https://colab.research.google.com/assets/colab-badge.svg\" alt=\"Open In Colab\"/></a>"
      ]
    },
    {
      "cell_type": "code",
      "execution_count": null,
      "metadata": {
        "id": "2MzEp1xk1lW7"
      },
      "outputs": [],
      "source": [
        "#Exercise - 1\n",
        "\n",
        "#Write a Python program to get the least common multiple (LCM) of two positive integers.\n",
        "\n",
        "#İki pozitif tamsayının en küçük ortak katını (LCM) bulan bir Python programı yazın.\n",
        "\n",
        "number1 = int(input(\"Lütfen birinci sayıyı girin: \"))\n",
        "number2 = int(input(\"Lütfen ikinci sayıyı girin: \"))\n",
        "# 10 ve 25 sayılarını ele aldığımızı varsayalım.\n",
        "for i in range(1, min(number1, number2) + 1) :\n",
        "  if (number1 % i == 0) and (number2 % i == 0) :\n",
        "    ebob = i # ebob = 5 olacak\n",
        "print(\"{} ve {} sayılarının EKOK'u =\".format(number1, number2), (number1 * number2) // ebob)\n",
        "Lütfen birinci sayıyı girin: 10\n",
        "Lütfen ikinci sayıyı girin: 25\n",
        "10 ve 25 sayılarının EKOK'u = 50"
      ]
    },
    {
      "cell_type": "code",
      "source": [
        "number1 = int(input(\"Lütfen birinci sayıyı girin: \"))\n",
        "number2 = int(input(\"Lütfen ikinci sayıyı girin: \"))\n",
        "for i in range(1, min(number1, number2) + 1) :\n",
        "  if (number1 % i == 0) and (number2 % i == 0) :\n",
        "    ebob = i # ebob = 5 olacak\n",
        "print(\"{} ve {} sayılarının EKOK'u =\".format(number1, number2), (number1 * number2) // ebob)"
      ],
      "metadata": {
        "colab": {
          "base_uri": "https://localhost:8080/"
        },
        "id": "S03qlCW92olJ",
        "outputId": "d4509bae-058d-41bf-b4dd-db349b482e01"
      },
      "execution_count": 4,
      "outputs": [
        {
          "output_type": "stream",
          "name": "stdout",
          "text": [
            "Lütfen birinci sayıyı girin: 35\n",
            "Lütfen ikinci sayıyı girin: 28\n",
            "35 ve 28 sayılarının EKOK'u = 140\n"
          ]
        }
      ]
    }
  ]
}