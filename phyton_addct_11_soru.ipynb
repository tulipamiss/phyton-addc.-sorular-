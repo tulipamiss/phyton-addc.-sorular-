{
  "nbformat": 4,
  "nbformat_minor": 0,
  "metadata": {
    "colab": {
      "name": "phyton_addct 11.soru.ipynb",
      "provenance": [],
      "authorship_tag": "ABX9TyPhiHwkWCzoaiaEiq++W8Nz",
      "include_colab_link": true
    },
    "kernelspec": {
      "name": "python3",
      "display_name": "Python 3"
    },
    "language_info": {
      "name": "python"
    }
  },
  "cells": [
    {
      "cell_type": "markdown",
      "metadata": {
        "id": "view-in-github",
        "colab_type": "text"
      },
      "source": [
        "<a href=\"https://colab.research.google.com/github/tulipamiss/phyton-addc.-sorular-/blob/main/phyton_addct_11_soru.ipynb\" target=\"_parent\"><img src=\"https://colab.research.google.com/assets/colab-badge.svg\" alt=\"Open In Colab\"/></a>"
      ]
    },
    {
      "cell_type": "code",
      "source": [
        "Exercise - 11\n",
        "\n",
        "Given the participants' score sheet for your University Sports Day, you are required to find the runner-up score. You are given scores. Store them in a list and find the score of the runner-up.\n",
        "\n",
        "Input Format\n",
        "\n",
        "The first line contains . The second line contains an array of integers each separated by a space.\n",
        "\n",
        "Sample Input\n",
        "\n",
        "5\n",
        "\n",
        "2 3 6 6 5\n",
        "\n",
        "Sample Output\n",
        "\n",
        "5\n",
        "\n",
        "number = int(input(\"Please enter the number of participants: \"))\n",
        "scores = list(map(int, input(\"What are all the scores?: \").split()))\n",
        "runner_up = sorted(set(scores))[-2]\n",
        "print(f\"İkincinin skoru: {runner_up}\")\n",
        "Please enter the number of participants: 5\n",
        "What are all the scores?: 65 60 53 87 95\n",
        "İkincinin skoru: 87\n"
      ],
      "metadata": {
        "id": "_SY9j12pbuNO"
      },
      "execution_count": null,
      "outputs": []
    },
    {
      "cell_type": "code",
      "source": [
        "number = int(input(\"pls.enter the number of participants: \"))\n",
        "scores = list(map(int, input(\"What are all the scores: \").split()))\n",
        "runner_up = sorted(set(scores))[-2]\n",
        "print(f\"ikincinin skoru : {runner_up}\")"
      ],
      "metadata": {
        "colab": {
          "base_uri": "https://localhost:8080/"
        },
        "id": "0K-hnkW-eAej",
        "outputId": "90b7356c-3774-4fe2-a934-dd2a355ede34"
      },
      "execution_count": 20,
      "outputs": [
        {
          "output_type": "stream",
          "name": "stdout",
          "text": [
            "pls.enter the number of participants: 4\n",
            "What are all the scores: 34 24 14 26\n",
            "ikincinin skoru : 26\n"
          ]
        }
      ]
    }
  ]
}