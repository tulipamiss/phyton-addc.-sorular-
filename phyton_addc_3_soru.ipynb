{
  "nbformat": 4,
  "nbformat_minor": 0,
  "metadata": {
    "colab": {
      "name": "phyton addc.3.soru.ipynb",
      "provenance": [],
      "authorship_tag": "ABX9TyODWYAwyVAxCu1J1dv4HRjo",
      "include_colab_link": true
    },
    "kernelspec": {
      "name": "python3",
      "display_name": "Python 3"
    },
    "language_info": {
      "name": "python"
    }
  },
  "cells": [
    {
      "cell_type": "markdown",
      "metadata": {
        "id": "view-in-github",
        "colab_type": "text"
      },
      "source": [
        "<a href=\"https://colab.research.google.com/github/tulipamiss/phyton-addc.-sorular-/blob/main/phyton_addc_3_soru.ipynb\" target=\"_parent\"><img src=\"https://colab.research.google.com/assets/colab-badge.svg\" alt=\"Open In Colab\"/></a>"
      ]
    },
    {
      "cell_type": "code",
      "source": [
        "#Exercise - 2\n",
        "\n",
        "#Write a program (using functions!) that asks the user for a long string containing multiple words. Print back to the user the same string, except with the words in backwards order. For example, say I type the string:\n",
        "\n",
        "#My name is Michele\n",
        "\n",
        "#Then I would see the string:\n",
        "\n",
        "Michele is name My\n",
        "\n",
        "shown back to me.\n",
        "\n",
        "cumle = input(\"Bir cümle yazınız: \")\n",
        "elemanlarina_ayrilmis_cumle = cumle.split()\n",
        "elemanlarina_ayrilmis_cumle.reverse()\n",
        "print(*elemanlarina_ayrilmis_cumle)"
      ],
      "metadata": {
        "id": "Pr0XxFEcAgxf"
      },
      "execution_count": null,
      "outputs": []
    },
    {
      "cell_type": "code",
      "source": [
        "cumle = input(\"Bir cümle yazınız: \")\n",
        "elemanlarina_ayrilmis_cumle = cumle.split()\n",
        "elemanlarina_ayrilmis_cumle.reverse()\n",
        "print(*elemanlarina_ayrilmis_cumle)"
      ],
      "metadata": {
        "colab": {
          "base_uri": "https://localhost:8080/"
        },
        "id": "1ehfwMYKApg-",
        "outputId": "63b7a7eb-e514-4f50-ddb4-8efe898684c1"
      },
      "execution_count": 24,
      "outputs": [
        {
          "output_type": "stream",
          "name": "stdout",
          "text": [
            "Bir cümle yazınız: benim adım Tulipa\n",
            "Tulipa adım benim\n"
          ]
        }
      ]
    }
  ]
}