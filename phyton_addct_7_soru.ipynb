{
  "nbformat": 4,
  "nbformat_minor": 0,
  "metadata": {
    "colab": {
      "name": "phyton_addct_7.soru.ipynb",
      "provenance": [],
      "authorship_tag": "ABX9TyNE4DCchZVgcv3WtrKi+Qk5",
      "include_colab_link": true
    },
    "kernelspec": {
      "name": "python3",
      "display_name": "Python 3"
    },
    "language_info": {
      "name": "python"
    }
  },
  "cells": [
    {
      "cell_type": "markdown",
      "metadata": {
        "id": "view-in-github",
        "colab_type": "text"
      },
      "source": [
        "<a href=\"https://colab.research.google.com/github/tulipamiss/phyton-addc.-sorular-/blob/main/phyton_addct_7_soru.ipynb\" target=\"_parent\"><img src=\"https://colab.research.google.com/assets/colab-badge.svg\" alt=\"Open In Colab\"/></a>"
      ]
    },
    {
      "cell_type": "code",
      "source": [
        "Exercise - 7\n",
        "\n",
        "If the two objects received from the user are of an integer type, write a Python program to sum the two objects.\n",
        "\n",
        "Kullanıcıdan alınan iki nesne eğer tamsayı türündeyse, bu iki nesneyi toplamak için bir Python programı yazın.\n",
        "\n",
        "x = input(\"Please enter data: \")\n",
        "y = input(\"Please enter data: \")\n",
        "\n",
        "if x.isnumeric() and y.isnumeric() :\n",
        "  print(int(x) + int(y))\n",
        "else :\n",
        "  print(\"Your input is not an integer.\")\n",
        "Please enter data: 5\n",
        "Please enter data: 12\n",
        "17"
      ],
      "metadata": {
        "id": "1XIaE6JTwB4v"
      },
      "execution_count": null,
      "outputs": []
    },
    {
      "cell_type": "code",
      "source": [
        "x = input(\"Please enter data: \")\n",
        "y = input(\"Please enter data: \")\n",
        "\n",
        "if x.isnumeric() and y.isnumeric() :\n",
        "  print(int(x) + int(y))\n",
        "else :\n",
        "  print(\"Your input is not an integer.\")"
      ],
      "metadata": {
        "colab": {
          "base_uri": "https://localhost:8080/"
        },
        "id": "m99PSQgWzdWv",
        "outputId": "0fb223db-1623-4059-cafe-5aea6846e85e"
      },
      "execution_count": 5,
      "outputs": [
        {
          "output_type": "stream",
          "name": "stdout",
          "text": [
            "Please enter data: 34\n",
            "Please enter data: ghg\n",
            "Your input is not an integer.\n"
          ]
        }
      ]
    }
  ]
}