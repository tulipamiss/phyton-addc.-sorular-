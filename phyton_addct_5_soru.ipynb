{
  "nbformat": 4,
  "nbformat_minor": 0,
  "metadata": {
    "colab": {
      "name": "phyton_addct_5.soru.ipynb",
      "provenance": [],
      "authorship_tag": "ABX9TyNbgYHq9I5VYLDxgE8+zpL6",
      "include_colab_link": true
    },
    "kernelspec": {
      "name": "python3",
      "display_name": "Python 3"
    },
    "language_info": {
      "name": "python"
    }
  },
  "cells": [
    {
      "cell_type": "markdown",
      "metadata": {
        "id": "view-in-github",
        "colab_type": "text"
      },
      "source": [
        "<a href=\"https://colab.research.google.com/github/tulipamiss/phyton-addc.-sorular-/blob/main/phyton_addct_5_soru.ipynb\" target=\"_parent\"><img src=\"https://colab.research.google.com/assets/colab-badge.svg\" alt=\"Open In Colab\"/></a>"
      ]
    },
    {
      "cell_type": "code",
      "source": [
        "soru- 5\n",
        "\n",
        "Write a Python program that will return true if the two given integer values are equal or their sum or difference is 5.\n",
        "\n",
        "Verilen iki tamsayı değeri eşitse veya toplamı veya farkı 5 ise true döndürecek bir Python programı yazın.\n",
        "\n",
        "liste = list(map(int, input(\"Lütfen iki sayı girin: \").split()))\n",
        "a = liste[0]\n",
        "b = liste[1]\n",
        "if a == b or a + b == 5 or a - b == 5 or b - a == 5 :\n",
        "  print(True)\n",
        "else :\n",
        "  print(False)"
      ],
      "metadata": {
        "id": "1SOs6kJ73bOz"
      },
      "execution_count": null,
      "outputs": []
    },
    {
      "cell_type": "code",
      "source": [
        "liste = list(map(int, input(\"lutfen iki sayı giriniz :\").split()))\n",
        "a = liste[0]\n",
        "b = liste [1]\n",
        "if a == b or a + b == 5 or a - b == 5 :\n",
        "  print(True)\n",
        "else :\n",
        "  print(False)    "
      ],
      "metadata": {
        "colab": {
          "base_uri": "https://localhost:8080/"
        },
        "id": "083S4laO3eLv",
        "outputId": "942c9a46-66bd-45db-9746-491ac1b32ddb"
      },
      "execution_count": 16,
      "outputs": [
        {
          "output_type": "stream",
          "name": "stdout",
          "text": [
            "lutfen iki sayı giriniz :3 5\n",
            "False\n"
          ]
        }
      ]
    }
  ]
}