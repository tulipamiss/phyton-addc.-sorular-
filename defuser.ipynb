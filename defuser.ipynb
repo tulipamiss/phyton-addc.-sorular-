{
  "nbformat": 4,
  "nbformat_minor": 0,
  "metadata": {
    "colab": {
      "name": "Untitled14.ipynb",
      "provenance": [],
      "authorship_tag": "ABX9TyN4ICZnKccrLPr7qmAwseiS",
      "include_colab_link": true
    },
    "kernelspec": {
      "name": "python3",
      "display_name": "Python 3"
    },
    "language_info": {
      "name": "python"
    }
  },
  "cells": [
    {
      "cell_type": "markdown",
      "metadata": {
        "id": "view-in-github",
        "colab_type": "text"
      },
      "source": [
        "<a href=\"https://colab.research.google.com/github/tulipamiss/phyton-addc.-sorular-/blob/main/defuser.ipynb\" target=\"_parent\"><img src=\"https://colab.research.google.com/assets/colab-badge.svg\" alt=\"Open In Colab\"/></a>"
      ]
    },
    {
      "cell_type": "code",
      "metadata": {
        "id": "XwDFegVECumG"
      },
      "source": [
        "defuser = \"Lale\" \n",
        "kullanıcı=input(\"pls. enter your username:\")\n",
        "if defuser==kullanıcı :\n",
        "  print(\"Hello {}!,the password is Tulipa\".format(kullanıcı))\n",
        "else:\n",
        "  print(\"Hello\",kullanıcı +\"!\")\n",
        "  print(\"See you later\")"
      ],
      "execution_count": null,
      "outputs": []
    }
  ]
}