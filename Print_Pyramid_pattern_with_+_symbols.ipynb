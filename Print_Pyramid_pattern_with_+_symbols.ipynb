{
  "nbformat": 4,
  "nbformat_minor": 0,
  "metadata": {
    "colab": {
      "name": "Print Pyramid pattern with + symbols.ipynb",
      "provenance": [],
      "authorship_tag": "ABX9TyNi+6PjotaTLXuZpEgabTc3",
      "include_colab_link": true
    },
    "kernelspec": {
      "name": "python3",
      "display_name": "Python 3"
    },
    "language_info": {
      "name": "python"
    }
  },
  "cells": [
    {
      "cell_type": "markdown",
      "metadata": {
        "id": "view-in-github",
        "colab_type": "text"
      },
      "source": [
        "<a href=\"https://colab.research.google.com/github/tulipamiss/phyton-addc.-sorular-/blob/main/Print_Pyramid_pattern_with_%2B_symbols.ipynb\" target=\"_parent\"><img src=\"https://colab.research.google.com/assets/colab-badge.svg\" alt=\"Open In Colab\"/></a>"
      ]
    },
    {
      "cell_type": "code",
      "source": [
        "n=int(input('Enter Number of rows:'))\n",
        "for i in range(n):\n",
        "   print((' '*(n-i-1))+ ('+ ')*(i+1))"
      ],
      "metadata": {
        "colab": {
          "base_uri": "https://localhost:8080/"
        },
        "id": "-w2JCtZTHLkw",
        "outputId": "78b55f25-65ab-42d1-cc09-ee1deb55e920"
      },
      "execution_count": 7,
      "outputs": [
        {
          "output_type": "stream",
          "name": "stdout",
          "text": [
            "Enter Number of rows:26\n",
            "                         + \n",
            "                        + + \n",
            "                       + + + \n",
            "                      + + + + \n",
            "                     + + + + + \n",
            "                    + + + + + + \n",
            "                   + + + + + + + \n",
            "                  + + + + + + + + \n",
            "                 + + + + + + + + + \n",
            "                + + + + + + + + + + \n",
            "               + + + + + + + + + + + \n",
            "              + + + + + + + + + + + + \n",
            "             + + + + + + + + + + + + + \n",
            "            + + + + + + + + + + + + + + \n",
            "           + + + + + + + + + + + + + + + \n",
            "          + + + + + + + + + + + + + + + + \n",
            "         + + + + + + + + + + + + + + + + + \n",
            "        + + + + + + + + + + + + + + + + + + \n",
            "       + + + + + + + + + + + + + + + + + + + \n",
            "      + + + + + + + + + + + + + + + + + + + + \n",
            "     + + + + + + + + + + + + + + + + + + + + + \n",
            "    + + + + + + + + + + + + + + + + + + + + + + \n",
            "   + + + + + + + + + + + + + + + + + + + + + + + \n",
            "  + + + + + + + + + + + + + + + + + + + + + + + + \n",
            " + + + + + + + + + + + + + + + + + + + + + + + + + \n",
            "+ + + + + + + + + + + + + + + + + + + + + + + + + + \n"
          ]
        }
      ]
    }
  ]
}