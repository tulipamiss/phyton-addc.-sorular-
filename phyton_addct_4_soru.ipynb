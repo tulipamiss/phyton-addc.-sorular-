{
  "nbformat": 4,
  "nbformat_minor": 0,
  "metadata": {
    "colab": {
      "name": "phyton_addct_4.soru.ipynb",
      "provenance": [],
      "authorship_tag": "ABX9TyMHVf9LW67umfNvw/FtPfTV",
      "include_colab_link": true
    },
    "kernelspec": {
      "name": "python3",
      "display_name": "Python 3"
    },
    "language_info": {
      "name": "python"
    }
  },
  "cells": [
    {
      "cell_type": "markdown",
      "metadata": {
        "id": "view-in-github",
        "colab_type": "text"
      },
      "source": [
        "<a href=\"https://colab.research.google.com/github/tulipamiss/phyton-addc.-sorular-/blob/main/phyton_addct_4_soru.ipynb\" target=\"_parent\"><img src=\"https://colab.research.google.com/assets/colab-badge.svg\" alt=\"Open In Colab\"/></a>"
      ]
    },
    {
      "cell_type": "code",
      "execution_count": null,
      "metadata": {
        "id": "VNe-sQCsyB2I"
      },
      "outputs": [],
      "source": [
        "soru - 4\n",
        "\n",
        "Write a Python program to sum of two given integers. However, if the sum is between 15 to 20 it will return.\n",
        "\n",
        "Verilen iki tamsayıyı toplayan bir Python programı yazın. Ancak, toplam 15 ila 20 arasındaysa sonucu geri döndürün.\n",
        "\n",
        "liste = list(map(int, input(\"Lütfen iki sayı girin: \").split()))\n",
        "if 15 < sum(liste) < 20 :\n",
        "  print(\"Girdiğiniz iki sayının toplamı:\", sum(liste))\n",
        "else :\n",
        "  print(\"Girdiğiniz iki sayının toplamı 15 ile 20 arasında değil!\")\n",
        "Lütfen iki sayı girin: 5 12\n",
        "Girdiğiniz iki sayının toplamı: 17"
      ]
    },
    {
      "cell_type": "code",
      "source": [
        "liste = list(map(int, input(\"Lütfen iki sayı girin: \").split()))\n",
        "if 15 < sum(liste) < 20 :\n",
        "  print(\"Girdiğiniz iki sayının toplamı:\", sum(liste))\n",
        "else :\n",
        "  print(\"Girdiğiniz iki sayının toplamı 15 ile 20 arasında değil!\")"
      ],
      "metadata": {
        "colab": {
          "base_uri": "https://localhost:8080/"
        },
        "id": "ouj7dZvI1-cG",
        "outputId": "e5958f8e-b904-400b-b6c3-19f640c104d4"
      },
      "execution_count": 14,
      "outputs": [
        {
          "output_type": "stream",
          "name": "stdout",
          "text": [
            "Lütfen iki sayı girin: 11 13\n",
            "Girdiğiniz iki sayının toplamı 15 ile 20 arasında değil!\n"
          ]
        }
      ]
    }
  ]
}