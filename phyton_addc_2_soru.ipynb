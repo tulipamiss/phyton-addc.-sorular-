{
  "nbformat": 4,
  "nbformat_minor": 0,
  "metadata": {
    "colab": {
      "name": "phyton addc.2.soru.ipynb",
      "provenance": [],
      "authorship_tag": "ABX9TyPoUhCLCCCQLT+Poo2skWqm",
      "include_colab_link": true
    },
    "kernelspec": {
      "name": "python3",
      "display_name": "Python 3"
    },
    "language_info": {
      "name": "python"
    }
  },
  "cells": [
    {
      "cell_type": "markdown",
      "metadata": {
        "id": "view-in-github",
        "colab_type": "text"
      },
      "source": [
        "<a href=\"https://colab.research.google.com/github/tulipamiss/phyton-addc.-sorular-/blob/main/phyton_addc_2_soru.ipynb\" target=\"_parent\"><img src=\"https://colab.research.google.com/assets/colab-badge.svg\" alt=\"Open In Colab\"/></a>"
      ]
    },
    {
      "cell_type": "code",
      "source": [
        "#Exercise - 3\n",
        "\n",
        "#Write a Python program to sum of three given integers. However, if two values are equal sum will be zero.\n",
        "\n",
        "#Verilen üç tamsayıyı toplayan bir Python programı yazın. Ancak, iki değer eşitse toplam sıfır olacaktır.\n",
        "\n",
        "sayi = list(map(int, input(\"\").split()))\n",
        "if sayi[0] == sayi [1] or sayi[1] == sayi [2] or sayi[0] == sayi[2] :\n",
        "  print(\"Toplam:\", 0)\n",
        "else :\n",
        "  print(sum(sayi))\n",
        "\n"
      ],
      "metadata": {
        "colab": {
          "base_uri": "https://localhost:8080/"
        },
        "id": "eQWTVhxd8nZb",
        "outputId": "7643b991-5325-4668-982e-9169c9ceb3ab"
      },
      "execution_count": 23,
      "outputs": [
        {
          "output_type": "stream",
          "name": "stdout",
          "text": [
            "12 13 14\n",
            "39\n"
          ]
        }
      ]
    }
  ]
}