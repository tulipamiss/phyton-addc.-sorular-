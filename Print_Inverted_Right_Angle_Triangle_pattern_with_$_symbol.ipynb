{
  "nbformat": 4,
  "nbformat_minor": 0,
  "metadata": {
    "colab": {
      "name": "Print Inverted Right Angle Triangle pattern with $ symbol.ipynb",
      "provenance": [],
      "authorship_tag": "ABX9TyMCYepYbmTbb+5tbK8bdPea",
      "include_colab_link": true
    },
    "kernelspec": {
      "name": "python3",
      "display_name": "Python 3"
    },
    "language_info": {
      "name": "python"
    }
  },
  "cells": [
    {
      "cell_type": "markdown",
      "metadata": {
        "id": "view-in-github",
        "colab_type": "text"
      },
      "source": [
        "<a href=\"https://colab.research.google.com/github/tulipamiss/phyton-addc.-sorular-/blob/main/Print_Inverted_Right_Angle_Triangle_pattern_with_%24_symbol.ipynb\" target=\"_parent\"><img src=\"https://colab.research.google.com/assets/colab-badge.svg\" alt=\"Open In Colab\"/></a>"
      ]
    },
    {
      "cell_type": "code",
      "source": [
        "n=int(input('Enter No Of Rows:'))\n",
        "for i in range(n):\n",
        "    print('$ '*(n-i))"
      ],
      "metadata": {
        "colab": {
          "base_uri": "https://localhost:8080/"
        },
        "id": "Dkh6auxgGwbr",
        "outputId": "b476fe8f-9f21-4252-dc5c-5a9ad2a0b356"
      },
      "execution_count": 6,
      "outputs": [
        {
          "output_type": "stream",
          "name": "stdout",
          "text": [
            "Enter No Of Rows:13\n",
            "$ $ $ $ $ $ $ $ $ $ $ $ $ \n",
            "$ $ $ $ $ $ $ $ $ $ $ $ \n",
            "$ $ $ $ $ $ $ $ $ $ $ \n",
            "$ $ $ $ $ $ $ $ $ $ \n",
            "$ $ $ $ $ $ $ $ $ \n",
            "$ $ $ $ $ $ $ $ \n",
            "$ $ $ $ $ $ $ \n",
            "$ $ $ $ $ $ \n",
            "$ $ $ $ $ \n",
            "$ $ $ $ \n",
            "$ $ $ \n",
            "$ $ \n",
            "$ \n"
          ]
        }
      ]
    }
  ]
}