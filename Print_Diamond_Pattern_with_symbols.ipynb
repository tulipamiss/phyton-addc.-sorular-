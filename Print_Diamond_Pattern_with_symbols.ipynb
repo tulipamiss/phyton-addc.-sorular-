{
  "nbformat": 4,
  "nbformat_minor": 0,
  "metadata": {
    "colab": {
      "name": "Print Diamond Pattern with * symbols.ipynb",
      "provenance": [],
      "authorship_tag": "ABX9TyNDNX1d7ZY5Btok1XTzz/Tt",
      "include_colab_link": true
    },
    "kernelspec": {
      "name": "python3",
      "display_name": "Python 3"
    },
    "language_info": {
      "name": "python"
    }
  },
  "cells": [
    {
      "cell_type": "markdown",
      "metadata": {
        "id": "view-in-github",
        "colab_type": "text"
      },
      "source": [
        "<a href=\"https://colab.research.google.com/github/tulipamiss/phyton-addc.-sorular-/blob/main/Print_Diamond_Pattern_with_symbols.ipynb\" target=\"_parent\"><img src=\"https://colab.research.google.com/assets/colab-badge.svg\" alt=\"Open In Colab\"/></a>"
      ]
    },
    {
      "cell_type": "code",
      "execution_count": 4,
      "metadata": {
        "colab": {
          "base_uri": "https://localhost:8080/"
        },
        "id": "pV_GIsY_M92s",
        "outputId": "fbac5246-2f57-4307-ee57-f8c0ec954884"
      },
      "outputs": [
        {
          "output_type": "stream",
          "name": "stdout",
          "text": [
            "Enter n Value:8\n",
            "       * \n",
            "      * * \n",
            "     * * * \n",
            "    * * * * \n",
            "   * * * * * \n",
            "  * * * * * * \n",
            " * * * * * * * \n",
            "* * * * * * * * \n",
            " * * * * * * * \n",
            "  * * * * * * \n",
            "   * * * * * \n",
            "    * * * * \n",
            "     * * * \n",
            "      * * \n",
            "       * \n"
          ]
        }
      ],
      "source": [
        "n=int(input('Enter n Value:'))\n",
        "for i in range(n):#0,1,2,3\n",
        "    print(' '*(n-i-1)+'* '*(i+1))\n",
        "for i in range(n-1):#0,1,2\n",
        "    print(' '*(i+1)+'* '*(n-i-1))"
      ]
    }
  ]
}