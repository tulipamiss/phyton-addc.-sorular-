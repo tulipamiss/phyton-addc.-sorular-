{
  "nbformat": 4,
  "nbformat_minor": 0,
  "metadata": {
    "colab": {
      "name": "phyton_addct 12. soru.ipynb",
      "provenance": [],
      "authorship_tag": "ABX9TyMtYd410hPCmA5Kt+kXlBNZ",
      "include_colab_link": true
    },
    "kernelspec": {
      "name": "python3",
      "display_name": "Python 3"
    },
    "language_info": {
      "name": "python"
    }
  },
  "cells": [
    {
      "cell_type": "markdown",
      "metadata": {
        "id": "view-in-github",
        "colab_type": "text"
      },
      "source": [
        "<a href=\"https://colab.research.google.com/github/tulipamiss/phyton-addc.-sorular-/blob/main/phyton_addct_12_soru.ipynb\" target=\"_parent\"><img src=\"https://colab.research.google.com/assets/colab-badge.svg\" alt=\"Open In Colab\"/></a>"
      ]
    },
    {
      "cell_type": "code",
      "source": [
        "Exercise - 13\n",
        "\n",
        "Write a Python program to display the examination schedule. (extract the date from exam_st_date).\n",
        "\n",
        "exam_st_date = (11, 12, 2014)\n",
        "\n",
        "Sample Output : The examination will start from : 11 / 12 / 2014"
      ],
      "metadata": {
        "id": "Cq__mRh_uLbe"
      },
      "execution_count": null,
      "outputs": []
    },
    {
      "cell_type": "code",
      "source": [
        "date = (11,12,2014)\n",
        "print(f\"The examination will start from: {date[0]} / {date[1]} / {date[2]}\")"
      ],
      "metadata": {
        "colab": {
          "base_uri": "https://localhost:8080/"
        },
        "id": "1MCCeaN-uSm0",
        "outputId": "4e2f0b3e-6d17-4013-85a0-2811e39ab8a7"
      },
      "execution_count": 10,
      "outputs": [
        {
          "output_type": "stream",
          "name": "stdout",
          "text": [
            "The examination will start from: 11 / 12 / 2014\n"
          ]
        }
      ]
    }
  ]
}