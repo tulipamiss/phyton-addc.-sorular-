{
  "nbformat": 4,
  "nbformat_minor": 0,
  "metadata": {
    "colab": {
      "name": "square pattern with * symbols.ipynb",
      "provenance": [],
      "authorship_tag": "ABX9TyOwLnbxrIMdyUv6/hUh74bW",
      "include_colab_link": true
    },
    "kernelspec": {
      "name": "python3",
      "display_name": "Python 3"
    },
    "language_info": {
      "name": "python"
    }
  },
  "cells": [
    {
      "cell_type": "markdown",
      "metadata": {
        "id": "view-in-github",
        "colab_type": "text"
      },
      "source": [
        "<a href=\"https://colab.research.google.com/github/tulipamiss/phyton-addc.-sorular-/blob/main/square_pattern_with_symbols.ipynb\" target=\"_parent\"><img src=\"https://colab.research.google.com/assets/colab-badge.svg\" alt=\"Open In Colab\"/></a>"
      ]
    },
    {
      "cell_type": "code",
      "execution_count": 2,
      "metadata": {
        "colab": {
          "base_uri": "https://localhost:8080/"
        },
        "id": "ZG-32cbdUrzw",
        "outputId": "ba2440ec-28cf-4404-ca9f-dfe9958069d3"
      },
      "outputs": [
        {
          "output_type": "stream",
          "name": "stdout",
          "text": [
            "Enter No Of Rows:8\n",
            "* * * * * * * * \n",
            "* * * * * * * * \n",
            "* * * * * * * * \n",
            "* * * * * * * * \n",
            "* * * * * * * * \n",
            "* * * * * * * * \n",
            "* * * * * * * * \n",
            "* * * * * * * * \n"
          ]
        }
      ],
      "source": [
        "n=int(input('Enter No Of Rows:'))\n",
        "for i in range(n):\n",
        " print('* '*n) "
      ]
    }
  ]
}