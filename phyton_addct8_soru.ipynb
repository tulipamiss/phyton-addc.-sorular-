{
  "nbformat": 4,
  "nbformat_minor": 0,
  "metadata": {
    "colab": {
      "name": "phyton_addct8.soru.ipynb",
      "provenance": [],
      "authorship_tag": "ABX9TyMDjYpwd6kZ20zFxSDxDA2Z",
      "include_colab_link": true
    },
    "kernelspec": {
      "name": "python3",
      "display_name": "Python 3"
    },
    "language_info": {
      "name": "python"
    }
  },
  "cells": [
    {
      "cell_type": "markdown",
      "metadata": {
        "id": "view-in-github",
        "colab_type": "text"
      },
      "source": [
        "<a href=\"https://colab.research.google.com/github/tulipamiss/phyton-addc.-sorular-/blob/main/phyton_addct8_soru.ipynb\" target=\"_parent\"><img src=\"https://colab.research.google.com/assets/colab-badge.svg\" alt=\"Open In Colab\"/></a>"
      ]
    },
    {
      "cell_type": "code",
      "source": [
        "Exercise - 10\n",
        "\n",
        "Given string contains a combination of the lower and upper case letters. Write a program to arrange the characters of a string so that all lowercase letters should come first.\n",
        "\n",
        "#Verilen string, küçük ve büyük harflerin bir kombinasyonunu içerir. Bir stringin karakterlerini, tüm küçük harflerin önce gelmesi için sıralayan bir program yazın.\n",
        "\n",
        "word = \"NeverGiveUp\"\n",
        "lower_case = \"\"\n",
        "upper_case = \"\"\n",
        "\n",
        "for i in word :\n",
        "  if i.isupper() :\n",
        "    upper_case += i\n",
        "  else :\n",
        "    lower_case += i\n",
        "\n",
        "print(lower_case + upper_case)"
      ],
      "metadata": {
        "id": "XYHFt5g7W-yO"
      },
      "execution_count": null,
      "outputs": []
    },
    {
      "cell_type": "code",
      "source": [
        "word = \"BugUNlerDe\"\n",
        "lower_case = \"\"\n",
        "upper_case = \"\"\n",
        "\n",
        "for i in word :\n",
        "  if i.isupper() :\n",
        "    upper_case += i\n",
        "  else :\n",
        "    lower_case += i\n",
        "\n",
        "print(lower_case + upper_case)"
      ],
      "metadata": {
        "colab": {
          "base_uri": "https://localhost:8080/"
        },
        "id": "tMEe6moDaMrb",
        "outputId": "28c44870-46ad-452d-8155-e8db5a91ca35"
      },
      "execution_count": 10,
      "outputs": [
        {
          "output_type": "stream",
          "name": "stdout",
          "text": [
            "uglereBUND\n"
          ]
        }
      ]
    }
  ]
}