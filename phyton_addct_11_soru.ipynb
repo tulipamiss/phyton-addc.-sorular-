{
  "nbformat": 4,
  "nbformat_minor": 0,
  "metadata": {
    "colab": {
      "name": "phyton_addct 11.soru.ipynb",
      "provenance": [],
      "authorship_tag": "ABX9TyNeQ6kGEYvrzNLKrTL68LWy",
      "include_colab_link": true
    },
    "kernelspec": {
      "name": "python3",
      "display_name": "Python 3"
    },
    "language_info": {
      "name": "python"
    }
  },
  "cells": [
    {
      "cell_type": "markdown",
      "metadata": {
        "id": "view-in-github",
        "colab_type": "text"
      },
      "source": [
        "<a href=\"https://colab.research.google.com/github/tulipamiss/phyton-addc.-sorular-/blob/main/phyton_addct_11_soru.ipynb\" target=\"_parent\"><img src=\"https://colab.research.google.com/assets/colab-badge.svg\" alt=\"Open In Colab\"/></a>"
      ]
    },
    {
      "cell_type": "code",
      "source": [
        "Exercise - 12\n",
        "\n",
        "Write a Python program to print the following string in a specific format (see the output).\n",
        "\n",
        "Aşağıdaki stringi belirli bir biçimde yazdırmak için bir Python programı yazın (çıktıya bakın).\n",
        "\n",
        "Sample String :\n",
        "\n",
        "\"Twinkle, twinkle, little star, How I wonder what you are! Up above the world so high, Like a diamond in the sky. Twinkle, twinkle, little star, How I wonder what you are\"\n",
        "\n",
        "\n",
        "\n"
      ],
      "metadata": {
        "id": "esvGU-RGgV_o"
      },
      "execution_count": null,
      "outputs": []
    },
    {
      "cell_type": "code",
      "source": [
        "Sample_String = \"Twinkle, twinkle, little star,\" +  \"\\n\\t\" + \"How I wonder what you are!\" + \"\\n\\t\\t\" + \"Up above the world so high,\" + \"\\n\\t\\t\" + \"Like a diamond in the sky.\" + \"\\n\" + \"Twinkle, twinkle, little star,\" + \"\\n\\t\" + \"How I wonder what you are\"\n",
        "print(Sample_String)"
      ],
      "metadata": {
        "colab": {
          "base_uri": "https://localhost:8080/"
        },
        "id": "E1bpqD55tHtD",
        "outputId": "e8306bb7-728a-4dee-eeeb-a01f42d23a70"
      },
      "execution_count": 9,
      "outputs": [
        {
          "output_type": "stream",
          "name": "stdout",
          "text": [
            "Twinkle, twinkle, little star,\n",
            "\tHow I wonder what you are!\n",
            "\t\tUp above the world so high,\n",
            "\t\tLike a diamond in the sky.\n",
            "Twinkle, twinkle, little star,\n",
            "\tHow I wonder what you are\n"
          ]
        }
      ]
    }
  ]
}