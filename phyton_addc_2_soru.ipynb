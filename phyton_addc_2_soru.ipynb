{
  "nbformat": 4,
  "nbformat_minor": 0,
  "metadata": {
    "colab": {
      "name": "phyton addc.2.soru.ipynb",
      "provenance": [],
      "authorship_tag": "ABX9TyNqYbtyXP4ic9LHEQnCMema",
      "include_colab_link": true
    },
    "kernelspec": {
      "name": "python3",
      "display_name": "Python 3"
    },
    "language_info": {
      "name": "python"
    }
  },
  "cells": [
    {
      "cell_type": "markdown",
      "metadata": {
        "id": "view-in-github",
        "colab_type": "text"
      },
      "source": [
        "<a href=\"https://colab.research.google.com/github/tulipamiss/phyton-addc.-sorular-/blob/main/phyton_addc_2_soru.ipynb\" target=\"_parent\"><img src=\"https://colab.research.google.com/assets/colab-badge.svg\" alt=\"Open In Colab\"/></a>"
      ]
    },
    {
      "cell_type": "code",
      "source": [
        "Exercise - 2\n",
        "\n",
        "Write a program (using functions!) that asks the user for a long string containing multiple words. Print back to the user the same string, except with the words in backwards order. For example, say I type the string:\n",
        "\n",
        "My name is Michele\n",
        "\n",
        "Then I would see the string:\n",
        "\n",
        "Michele is name My\n",
        "\n",
        "shown back to me.\n",
        "\n",
        "cumle = input(\"Bir cümle yazınız: \")\n",
        "elemanlarina_ayrilmis_cumle = cumle.split()\n",
        "elemanlarina_ayrilmis_cumle.reverse()\n",
        "print(*elemanlarina_ayrilmis_cumle)\n",
        "Bir cümle yazınız: My name is Michelle\n",
        "Michelle is name My\n",
        "# Not\n",
        "print(elemanlarina_ayrilmis_cumle)\n",
        "print(*elemanlarina_ayrilmis_cumle)\n",
        "['Michelle', 'is', 'name', 'My']\n",
        "Michelle is name My"
      ],
      "metadata": {
        "id": "1tplapLG3s_w"
      },
      "execution_count": null,
      "outputs": []
    },
    {
      "cell_type": "code",
      "source": [
        "cumle = input(\"Bir cümle yazınız: \")\n",
        "elemanlarina_ayrilmis_cumle = cumle.split()\n",
        "elemanlarina_ayrilmis_cumle.reverse()\n",
        "print(elemanlarina_ayrilmis_cumle)\n",
        "print(*elemanlarina_ayrilmis_cumle)"
      ],
      "metadata": {
        "colab": {
          "base_uri": "https://localhost:8080/"
        },
        "id": "g90h2ah83unC",
        "outputId": "5a7174ee-2dfc-4ed0-c392-af050661ef44"
      },
      "execution_count": 8,
      "outputs": [
        {
          "output_type": "stream",
          "name": "stdout",
          "text": [
            "Bir cümle yazınız: benım adım lale\n",
            "['lale', 'adım', 'benım']\n",
            "lale adım benım\n"
          ]
        }
      ]
    }
  ]
}