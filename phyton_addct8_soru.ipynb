{
  "nbformat": 4,
  "nbformat_minor": 0,
  "metadata": {
    "colab": {
      "name": "phyton_addct8.soru.ipynb",
      "provenance": [],
      "authorship_tag": "ABX9TyOCfoAil6MLeWqcCLfwvv4j",
      "include_colab_link": true
    },
    "kernelspec": {
      "name": "python3",
      "display_name": "Python 3"
    },
    "language_info": {
      "name": "python"
    }
  },
  "cells": [
    {
      "cell_type": "markdown",
      "metadata": {
        "id": "view-in-github",
        "colab_type": "text"
      },
      "source": [
        "<a href=\"https://colab.research.google.com/github/tulipamiss/phyton-addc.-sorular-/blob/main/phyton_addct8_soru.ipynb\" target=\"_parent\"><img src=\"https://colab.research.google.com/assets/colab-badge.svg\" alt=\"Open In Colab\"/></a>"
      ]
    },
    {
      "cell_type": "code",
      "source": [
        "#Exercise-8\n",
        "\n",
        "#Write a Python program to display your details like name, age, address in three different lines.\n",
        "\n",
        "#Ad, yaş, adres gibi bilgilerinizi üç farklı satırda gösterecek bir Python programı yazın.\n",
        "\n",
        "ad, yas, adres = input(\"Ad & Soyad: \"), input(\"Yaşınız: \"), input(\"Adres: \")\n",
        "print(f\"Ad Soyad: {ad}\\nYaş: {yas}\\nAdres: {adres}\\n\")"
      ],
      "metadata": {
        "colab": {
          "base_uri": "https://localhost:8080/"
        },
        "id": "pzFZ2GxBz_0L",
        "outputId": "ebd6bcf8-0797-453b-9b6f-7ad324fd3cea"
      },
      "execution_count": 7,
      "outputs": [
        {
          "output_type": "stream",
          "name": "stdout",
          "text": [
            "Ad & Soyad: Lale Arslan\n",
            "Yaşınız: 37\n",
            "Adres: huzur sok.no :16/5\n",
            "Ad Soyad: Lale Arslan\n",
            "Yaş: 37\n",
            "Adres: huzur sok.no :16/5\n",
            "\n"
          ]
        }
      ]
    }
  ]
}